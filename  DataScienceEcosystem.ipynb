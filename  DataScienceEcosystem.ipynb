{
 "cells": [
  {
   "cell_type": "markdown",
   "id": "9ccbd8a8-4f00-493c-bf58-3aceb294166d",
   "metadata": {},
   "source": [
    "## Data Science Tools and Ecosystem"
   ]
  },
  {
   "cell_type": "markdown",
   "id": "cd40dc1e-ff45-469c-83de-9a3235858f9a",
   "metadata": {},
   "source": [
    "In this notebook, Data Science Tools and Ecosystem are summarized."
   ]
  },
  {
   "cell_type": "markdown",
   "id": "0e52be20-dfc8-4d1f-8e56-c388fa78bae0",
   "metadata": {
    "tags": []
   },
   "source": [
    "Some of the popular languages that Data Scientists use are:\n",
    "\n",
    "1. **Python** - widely used for data analysis, ML\n",
    "2. **R** - used for statistical computation and Visualisation\n",
    "3. **SQL** - used for Querying and managing data in database\n"
   ]
  },
  {
   "cell_type": "markdown",
   "id": "24d4614e-12b1-45bc-b5cc-c0f916b82286",
   "metadata": {},
   "source": [
    "Some of the commonly used libraries used by Data Scientists include:\n",
    "\n",
    "1. **pandas** - For data manipulation and analysis.\n",
    "2. **NumPy** - For numerical computations and working with arrays.\n",
    "3. **matplotlib** - For data visualization.\n",
    "4. **scikit-learn** - For machine learning algorithms.\n",
    "5. **TensorFlow** - For deep learning and neural networks."
   ]
  },
  {
   "cell_type": "markdown",
   "id": "6b1dc609-faf4-4f15-ad24-f70b17023a10",
   "metadata": {
    "tags": []
   },
   "source": [
    "| Data Science Tools        |\n",
    "|---------------------------|\n",
    "| Jupyter Notebook          |\n",
    "| RStudio                   |\n",
    "| Apache Zeppelin           |"
   ]
  },
  {
   "cell_type": "markdown",
   "id": "f4926f2a-02a8-414c-8288-ec9efb8850cc",
   "metadata": {},
   "source": [
    "### Below are a few examples of evaluating arithmetic expressions in Python"
   ]
  },
  {
   "cell_type": "code",
   "execution_count": 7,
   "id": "862faba2-5c57-4b50-9ec6-5eab7c7879b9",
   "metadata": {
    "tags": []
   },
   "outputs": [
    {
     "data": {
      "text/plain": [
       "17"
      ]
     },
     "execution_count": 7,
     "metadata": {},
     "output_type": "execute_result"
    }
   ],
   "source": [
    "# This is a simple arithmetic expression to multiply then add integers\n",
    "\n",
    "(3*4)+5"
   ]
  },
  {
   "cell_type": "code",
   "execution_count": 8,
   "id": "7ab1bd89-d8b6-4e84-8976-28aa649f2133",
   "metadata": {
    "tags": []
   },
   "outputs": [
    {
     "data": {
      "text/plain": [
       "3.3333333333333335"
      ]
     },
     "execution_count": 8,
     "metadata": {},
     "output_type": "execute_result"
    }
   ],
   "source": [
    "# This will convert 200 minutes to hours by dividing by 60\n",
    "200 / 60"
   ]
  },
  {
   "cell_type": "markdown",
   "id": "1e30e51a-8ca3-4d02-9d9f-f9e1aeae7534",
   "metadata": {},
   "source": [
    "**Objectives:**\n",
    "\n",
    "- List popular languages for Data Science  \n",
    "- Identify commonly used Data Science libraries and tools  \n",
    "- Create and format Markdown cells in a Jupyter Notebook  \n",
    "- Evaluate basic arithmetic expressions in Python  \n",
    "- Convert time units using Python expressions "
   ]
  },
  {
   "cell_type": "markdown",
   "id": "bf96895b-45ea-4b5c-aca2-0f19bc8d9e05",
   "metadata": {
    "tags": []
   },
   "source": [
    "## Author\n",
    "NISHA"
   ]
  },
  {
   "cell_type": "code",
   "execution_count": null,
   "id": "15b085c1-f278-4a5e-8540-7eeeab3258eb",
   "metadata": {},
   "outputs": [],
   "source": []
  },
  {
   "cell_type": "code",
   "execution_count": null,
   "id": "6d9a8f77-37da-4d15-92bb-ae6aa570d52e",
   "metadata": {},
   "outputs": [],
   "source": []
  },
  {
   "cell_type": "code",
   "execution_count": null,
   "id": "81407b15-a1f4-4852-9a3b-1889c0cf21d5",
   "metadata": {},
   "outputs": [],
   "source": []
  },
  {
   "cell_type": "code",
   "execution_count": null,
   "id": "cfb3968a-d0ab-4ff6-8718-b7a2d5b261fb",
   "metadata": {},
   "outputs": [],
   "source": []
  },
  {
   "cell_type": "code",
   "execution_count": null,
   "id": "ad642975-1cea-46dc-ae6e-401abdb1f25f",
   "metadata": {},
   "outputs": [],
   "source": []
  },
  {
   "cell_type": "code",
   "execution_count": null,
   "id": "35018773-17e9-463d-ba34-274f83d2a07d",
   "metadata": {},
   "outputs": [],
   "source": []
  },
  {
   "cell_type": "code",
   "execution_count": null,
   "id": "88a87ade-be26-4444-8de4-ccc1fad37fff",
   "metadata": {},
   "outputs": [],
   "source": []
  },
  {
   "cell_type": "code",
   "execution_count": null,
   "id": "382793d6-6767-47ed-ad5f-715dd3d3e43a",
   "metadata": {},
   "outputs": [],
   "source": []
  },
  {
   "cell_type": "code",
   "execution_count": null,
   "id": "10f368f9-4740-4fa4-a18a-7f1b87b017d3",
   "metadata": {},
   "outputs": [],
   "source": []
  },
  {
   "cell_type": "code",
   "execution_count": null,
   "id": "22f1ead1-676f-427c-81b9-aae255a33af8",
   "metadata": {},
   "outputs": [],
   "source": []
  },
  {
   "cell_type": "code",
   "execution_count": null,
   "id": "966b1476-f0d3-4016-90c9-534bfc54fdd3",
   "metadata": {},
   "outputs": [],
   "source": []
  },
  {
   "cell_type": "code",
   "execution_count": null,
   "id": "03b7e82b-a931-4868-a672-6d816c3f2848",
   "metadata": {},
   "outputs": [],
   "source": []
  },
  {
   "cell_type": "code",
   "execution_count": null,
   "id": "56eb7d4f-6504-4a09-ab78-a7d8a8f215aa",
   "metadata": {},
   "outputs": [],
   "source": []
  }
 ],
 "metadata": {
  "kernelspec": {
   "display_name": "Python 3 (ipykernel)",
   "language": "python",
   "name": "python3"
  },
  "language_info": {
   "codemirror_mode": {
    "name": "ipython",
    "version": 3
   },
   "file_extension": ".py",
   "mimetype": "text/x-python",
   "name": "python",
   "nbconvert_exporter": "python",
   "pygments_lexer": "ipython3",
   "version": "3.11.4"
  }
 },
 "nbformat": 4,
 "nbformat_minor": 5
}
